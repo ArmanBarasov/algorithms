{
 "cells": [
  {
   "cell_type": "code",
   "execution_count": null,
   "id": "60891ad1",
   "metadata": {},
   "outputs": [],
   "source": [
    "def bin_search(my_list, item):\n",
    "    low = 0\n",
    "    high = len(my_list) -1\n",
    "    while low <= high:\n",
    "        mid = (low+high)//2\n",
    "        guess = my_list[mid]\n",
    "        if guess == item:\n",
    "            return mid\n",
    "        if guess > item:\n",
    "            high = mid-1\n",
    "        else:\n",
    "            low = mid+1\n",
    "    return None\n",
    "my_list = [23, 52, 63, 82, 120, 555]\n",
    "print(bin_search(my_list, 120))"
   ]
  }
 ],
 "metadata": {
  "kernelspec": {
   "display_name": "Python 3 (ipykernel)",
   "language": "python",
   "name": "python3"
  },
  "language_info": {
   "codemirror_mode": {
    "name": "ipython",
    "version": 3
   },
   "file_extension": ".py",
   "mimetype": "text/x-python",
   "name": "python",
   "nbconvert_exporter": "python",
   "pygments_lexer": "ipython3",
   "version": "3.10.11"
  }
 },
 "nbformat": 4,
 "nbformat_minor": 5
}
